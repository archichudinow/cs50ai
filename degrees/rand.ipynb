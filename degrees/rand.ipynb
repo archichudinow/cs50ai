{
 "cells": [
  {
   "cell_type": "code",
   "execution_count": 16,
   "metadata": {},
   "outputs": [],
   "source": [
    "import csv\n",
    "import sys\n",
    "\n",
    "from util import Node, StackFrontier, QueueFrontier\n",
    "\n",
    "nodeone = Node(state=(None, 255), parent=None, action=[])\n",
    "nodetwo = Node(state=(100, 250), parent=None, action=[])\n",
    "\n",
    "explored=[(100,250), (None,255)]"
   ]
  },
  {
   "cell_type": "code",
   "execution_count": 17,
   "metadata": {},
   "outputs": [
    {
     "name": "stdout",
     "output_type": "stream",
     "text": [
      "explored\n"
     ]
    }
   ],
   "source": [
    "if nodeone.state in explored:\n",
    "    print(\"explored\")"
   ]
  },
  {
   "cell_type": "code",
   "execution_count": null,
   "metadata": {},
   "outputs": [],
   "source": []
  }
 ],
 "metadata": {
  "language_info": {
   "name": "python"
  }
 },
 "nbformat": 4,
 "nbformat_minor": 2
}
